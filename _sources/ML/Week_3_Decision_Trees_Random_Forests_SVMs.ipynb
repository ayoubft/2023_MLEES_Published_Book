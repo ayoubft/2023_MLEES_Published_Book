{
  "nbformat": 4,
  "nbformat_minor": 0,
  "metadata": {
    "colab": {
      "name": "Week_3_Decision_Trees_Random_Forests_SVMs.ipynb",
      "provenance": [],
      "collapsed_sections": [],
      "authorship_tag": "ABX9TyN6GRuYN6hs/ybIohmv6O48",
      "include_colab_link": true
    },
    "kernelspec": {
      "name": "python3",
      "display_name": "Python 3"
    },
    "language_info": {
      "name": "python"
    }
  },
  "cells": [
    {
      "cell_type": "markdown",
      "metadata": {
        "id": "view-in-github",
        "colab_type": "text"
      },
      "source": [
        "<a href=\"https://colab.research.google.com/github/tbeucler/2022_ML_Earth_Env_Sci/blob/main/Lab_Notebooks/Week_3_Decision_Trees_Random_Forests_SVMs.ipynb\" target=\"_parent\"><img src=\"https://colab.research.google.com/assets/colab-badge.svg\" alt=\"Open In Colab\"/></a>"
      ]
    },
    {
      "cell_type": "markdown",
      "source": [
        "# **Welcome to the third lab: Support vector machines, Decision trees, Random forests & Environmental risk analysis**"
      ],
      "metadata": {
        "id": "jobt71avnVPS"
      }
    },
    {
      "cell_type": "markdown",
      "source": [
        "For this week's lab, the learning objectives are:\n",
        "\n",
        "1.    Training and benchmarking different types of support vector machines for classification and regression purposes,\n",
        "\n",
        "2.    Training, fine-tuning, and benchmarking decision trees and random forests for classification purposes,\n",
        "\n",
        "3.    Applying these classification algorithms to map wildfire risk in Italy using historical data of wildfire occurence. "
      ],
      "metadata": {
        "id": "5NmnSWj5oAAT"
      }
    },
    {
      "cell_type": "markdown",
      "source": [
        "Today's tutorial:\n",
        "\n",
        "1.    Adapts Géron et al.'s Jupyter notebook exercises for chapters [5](https://github.com/ageron/handson-ml2/blob/master/05_support_vector_machines.ipynb), [6](https://github.com/ageron/handson-ml2/blob/master/06_decision_trees.ipynb), and [7](https://github.com/ageron/handson-ml2/blob/master/07_ensemble_learning_and_random_forests.ipynb) [(License)](https://github.com/ageron/handson-ml2/blob/master/LICENSE) of his book [\"Hands-On Machine Learning with Scikit-Learn, Keras, and TensorFlow, 2nd Edition\"](https://www.oreilly.com/library/view/hands-on-machine-learning/9781492032632/),\n",
        "\n",
        "2.    Adapts two articles on wildfire susceptibility mapping from [Tonini et al.](https://www.mdpi.com/2076-3263/10/3/105) and [Trucchia et al.](https://www.mdpi.com/2571-6255/5/1/30), and Python scripts from [Giorgio Meschi](https://www.linkedin.com/in/giorgio-meschi-86216b180/). "
      ],
      "metadata": {
        "id": "ZwIvLOstucNV"
      }
    },
    {
      "cell_type": "markdown",
      "source": [
        "If you are struggling with some of the exercises, do not hesitate to:\n",
        "\n",
        "\n",
        "*   Use a direct Internet search, or [stackoverflow](https://stackoverflow.com/)\n",
        "*   Ask your neighbor(s), the teacher, or the TA for help\n",
        "*   Debug your program, e.g. by following [this tutorial](https://swcarpentry.github.io/python-novice-inflammation/11-debugging/index.html)\n",
        "*   Use assertions, e.g. by following [this tutorial](https://swcarpentry.github.io/python-novice-inflammation/10-defensive/index.html)\n",
        "\n"
      ],
      "metadata": {
        "id": "5kqRUzTLpca0"
      }
    },
    {
      "cell_type": "markdown",
      "source": [
        "# Part I: Practice on Simple Datasets"
      ],
      "metadata": {
        "id": "FOjl7quRnlRj"
      }
    },
    {
      "cell_type": "markdown",
      "source": [
        "## 1. Support Vector Machines"
      ],
      "metadata": {
        "id": "dU0SS519pc6s"
      }
    },
    {
      "cell_type": "markdown",
      "source": [
        "\n",
        "\n",
        "---\n",
        "\n",
        "Go to notebook [`S3_1_SVM`](https://colab.research.google.com/github/tbeucler/2022_ML_Earth_Env_Sci/blob/main/Lab_Notebooks/S3_1_SVM.ipynb)\n",
        "\n",
        "---\n",
        "\n",
        "\n"
      ],
      "metadata": {
        "id": "N5GdJyP9tlez"
      }
    },
    {
      "cell_type": "markdown",
      "source": [
        "## 2. Decision Trees"
      ],
      "metadata": {
        "id": "XPdLSJATt4Vj"
      }
    },
    {
      "cell_type": "markdown",
      "source": [
        "\n",
        "\n",
        "---\n",
        "\n",
        "Go to notebook [`S3_2_Decision_Trees`](https://colab.research.google.com/github/tbeucler/2022_ML_Earth_Env_Sci/blob/main/Lab_Notebooks/S3_2_Decision_Trees.ipynb)\n",
        "\n",
        "---\n",
        "\n",
        "\n"
      ],
      "metadata": {
        "id": "HLqzQcoLC1Bd"
      }
    },
    {
      "cell_type": "markdown",
      "source": [
        "## 3. Ensemble Learning and Random Forests\n",
        "\n",
        "\n",
        "\n",
        "---\n",
        "\n",
        "Go to notebook [`S3_3_Ensemble_Learning_Random_Forests`](https://colab.research.google.com/github/tbeucler/2022_ML_Earth_Env_Sci/blob/main/Lab_Notebooks/S3_3_Ensemble_Learning_Random_Forests.ipynb)\n",
        "\n",
        "---\n",
        "\n",
        "\n"
      ],
      "metadata": {
        "id": "lK5ecWlkDYB6"
      }
    },
    {
      "cell_type": "markdown",
      "source": [
        "# Part II: Application to Environmental Risk Analysis"
      ],
      "metadata": {
        "id": "Fl4468OlnydI"
      }
    },
    {
      "cell_type": "markdown",
      "source": [
        "## 4. Wildfire Susceptibility Mapping in Italy"
      ],
      "metadata": {
        "id": "dOsZNZztn068"
      }
    },
    {
      "cell_type": "markdown",
      "source": [
        "\n",
        "\n",
        "---\n",
        "\n",
        "Go to notebook [`S3_4_Wildfire_Risk_Italy`](https://colab.research.google.com/github/tbeucler/2022_ML_Earth_Env_Sci/blob/main/Lab_Notebooks/S3_4_Wildfire_Risk_Italy.ipynb)\n",
        "\n",
        "\n",
        "---\n",
        "\n"
      ],
      "metadata": {
        "id": "bobHngpDO5lI"
      }
    },
    {
      "cell_type": "markdown",
      "source": [
        "# You're on fire!! 🔥 😃 🔥\n",
        "You've reached the end of week 3's lab. If you're done early, consider:\n",
        "\n",
        "\n",
        "*   Trying out the notebook's bonus exercises\n",
        "*   Giving feedback on how to improve this notebook (typos, hints, exercises that may be improved/removed/added, etc.) by messaging the teacher and TA(s) on Moodle\n",
        "*   Working on your final project for this course. \n",
        "\n",
        "**Final Project**\n",
        "The final project’s goal is to answer a well-defined scientific question by applying one of the ML algorithms introduced in class on an environmental dataset of your choice (e.g., related to your Masters thesis or your PhD research). \n",
        "\n",
        "*   Now that you found a large environmental dataset linked to a scientific question you are passionate about, which machine learning algorithm can you use to address it? Is it a classification, a regression, or a data exploration project?\n",
        "*   How could you format the dataset to facilitate its manipulation in Python?\n",
        "*   If you're still hunting for a dataset of interest, consider browsing the [list of benchmark datasets](http://mldata.pangeo.io/index.html) maintained by [Pangeo](https://pangeo.io/). You can also use the wildfire dataset if you can think of a challenging scientific question that it would help answer!"
      ],
      "metadata": {
        "id": "Pp_t7AeSARlQ"
      }
    }
  ]
}