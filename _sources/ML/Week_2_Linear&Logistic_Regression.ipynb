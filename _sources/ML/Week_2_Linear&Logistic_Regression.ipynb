{
  "nbformat": 4,
  "nbformat_minor": 0,
  "metadata": {
    "colab": {
      "name": "Week_2_Linear&Logistic_Regression.ipynb",
      "provenance": [],
      "collapsed_sections": [],
      "authorship_tag": "ABX9TyPCuRS/4vt+eWhVdNrh7cyC",
      "include_colab_link": true
    },
    "kernelspec": {
      "name": "python3",
      "display_name": "Python 3"
    },
    "language_info": {
      "name": "python"
    }
  },
  "cells": [
    {
      "cell_type": "markdown",
      "metadata": {
        "id": "view-in-github",
        "colab_type": "text"
      },
      "source": [
        "<a href=\"https://colab.research.google.com/github/tbeucler/2022_ML_Earth_Env_Sci/blob/main/Lab_Notebooks/Week_2_Linear%26Logistic_Regression.ipynb\" target=\"_parent\"><img src=\"https://colab.research.google.com/assets/colab-badge.svg\" alt=\"Open In Colab\"/></a>"
      ]
    },
    {
      "cell_type": "markdown",
      "source": [
        "# Welcome back to \"Machine Learning for Earth and Environmental Sciences\"\n",
        "\n",
        "For this week's lab, our goal is to familiarize ourselves with the use of Linear and Logistic regression for both classification problems and regression problems.\n",
        "\n",
        "Our main learning objectives today are:\n",
        "\n",
        "1. Become familiar with the terminology used in classification and regression problems  \n",
        "2. Become familiar with some classifiers available in SciKit Learn\n",
        "3. Understand how a machine learning algorithm can be implemented from scratch\n",
        "4. Apply classifier and linear models to environmental science problems \n",
        "\n",
        "\n",
        "Today's lab adapts the notebooks that accompany Géron's [Hands-On Machine Learning with Scikit-Learn, Keras, and TensorFlow](https://www.oreilly.com/library/view/hands-on-machine-learning/9781492032632/), which are available on [GitHub](https://github.com/ageron/handson-ml2), as well as material from Wilks' [Statistical Methods in the Atmospheric Sciences](https://www.elsevier.com/books/statistical-methods-in-the-atmospheric-sciences/wilks/978-0-12-815823-4).\n",
        "\n",
        "We will be relying on Scikit Learn, whose documentation you can find [here](https://scikit-learn.org/stable/user_guide.html), and the notebooks assume that you will run them on Google Colab (Though everything can be run locally! There are only a handful of lines that use Google specific libraries)\n",
        "\n",
        "<br>\n",
        "\n",
        "If you are struggling with some of the exercises, do not hesitate to:\n",
        "\n",
        "\n",
        "*   Use a direct Internet search, or [stackoverflow](https://stackoverflow.com/)\n",
        "*   Ask your neighbor(s), the teacher, or the TA for help\n",
        "*   Debug your program, e.g. by following [this tutorial](https://swcarpentry.github.io/python-novice-inflammation/11-debugging/index.html)\n",
        "*   Use assertions, e.g. by following [this tutorial](https://swcarpentry.github.io/python-novice-inflammation/10-defensive/index.html)"
      ],
      "metadata": {
        "id": "PseZ1YZJMDB9"
      }
    },
    {
      "cell_type": "markdown",
      "source": [
        "#Classification\n",
        "\n",
        "-----------------------------\n",
        "Go to notebbook [`S2_1_Classification`](https://colab.research.google.com/github/tbeucler/2022_ML_Earth_Env_Sci/blob/main/Lab_Notebooks/S2_1_Classification.ipynb)\n",
        "\n",
        "-------------------------------"
      ],
      "metadata": {
        "id": "GsnvQnueW59a"
      }
    },
    {
      "cell_type": "markdown",
      "source": [
        "#Training Models\n",
        "-------------------------------------\n",
        "Go to notebook [`S2_2_Training_Models`](https://colab.research.google.com/github/tbeucler/2022_ML_Earth_Env_Sci/blob/main/Lab_Notebooks/S2_2_Training_Models.ipynb)\n",
        "\n",
        "----------------------------------"
      ],
      "metadata": {
        "id": "_Uudft9IW6Tf"
      }
    },
    {
      "cell_type": "markdown",
      "source": [
        "# Statistical Methods in the Environmental Sciences\n",
        "\n",
        "----------------------\n",
        "Go to notebook [`S2_3_Stat_Methods`](https://colab.research.google.com/github/tbeucler/2022_ML_Earth_Env_Sci/blob/main/Lab_Notebooks/S2_3_Statistical_Forecasting.ipynb)\n",
        "\n",
        "---------------------"
      ],
      "metadata": {
        "id": "xIYbt3_KaIXJ"
      }
    },
    {
      "cell_type": "markdown",
      "source": [
        "# Way to go!! 😃\n",
        "You've reached the end of week 2's lab. If you're done early, consider:\n",
        "\n",
        "\n",
        "*   Trying out the notebook's bonus exercises\n",
        "*   Helping students around you if applicable\n",
        "*   Giving feedback on how to improve this notebook (typos, hints, exercises that may be improved/removed/added, etc.) by messaging the teacher and TA(s) on Moodle\n",
        "*   Work on your final project for this course. "
      ],
      "metadata": {
        "id": "yz7NneSnYOfT"
      }
    }
  ]
}